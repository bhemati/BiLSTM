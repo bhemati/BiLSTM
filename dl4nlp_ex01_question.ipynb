{
  "cells": [
    {
      "cell_type": "markdown",
      "metadata": {
        "id": "1OnYAk4gxsvw",
        "tags": []
      },
      "source": [
        "# Deep Learning for NLP - Exercise 01\n",
        "Building, Tuning and Evaluating a standard RNN Model\n",
        "\n",
        "General hints:\n",
        "* Have a look at the imports below when solving the tasks\n",
        "* Use the given modules and all submodules of the imports, but don't import anything else!\n",
        "    * For instance, you can use other functions under the `torch` or `nn` namespace, but don't import e.g. PyTorch Lightning, etc.\n",
        "* It is recommended to install all packages from the provided environment file\n",
        "* Feel free to test your code between sub-tasks of the exercise sheet, so that you can spot mistakes early (wrong shapes, impossible numbers, NaNs, ...)\n",
        "* Just keep in mind that your final submission should be compliant to the provided initial format of this file\n",
        "\n",
        "Submission guidelines:\n",
        "* Make sure that the code runs on package versions from the the provided environment file\n",
        "* Do not add or change any imports (also don't change the naming of imports, e.g. `torch.nn.functional as f`)\n",
        "* Remove your personal, additional code testings and experiments throughout the notebook\n",
        "* Do not change the class, function or naming structure as we will run tests on the given names\n",
        "* Additionally export this notebook as a `.py` file, and submit **both** the executed `.ipynb` notebook with plots in it **and** the `.py` file\n",
        "* **Deviation from the above guidelines will result in partial or full loss of points**"
      ]
    },
    {
      "cell_type": "markdown",
      "metadata": {
        "id": "Ad9X5esLfuD3"
      },
      "source": [
        "If you are using Google Colab or similar services, make sure to install all necessary packages so that the import cell below is working.\n",
        "\n",
        "Usually, you would need to `!pip install`:\n",
        "```\n",
        "!pip install datasets==2.13.1\n",
        "!pip install spacy==3.6.1\n",
        "!pip install torch==2.0.1    # just to be sure we are all working with the same version\n",
        "!pip install torchtext==0.15.2\n",
        "!python -m spacy download en_core_web_sm\n",
        "```\n",
        "\n",
        "Make sure to comment out the lines before submitting!"
      ]
    },
    {
      "cell_type": "code",
      "execution_count": 1,
      "metadata": {
        "id": "WSoWHW6VLO8A"
      },
      "outputs": [],
      "source": [
        "# !pip install datasets==2.13.1\n",
        "# !pip install spacy==3.6.1\n",
        "# !pip install torch==2.0.1    # just to be sure we are all working with the same version\n",
        "# !pip install torchtext==0.15.2\n",
        "# !python -m spacy download en_core_web_sm\n"
      ]
    },
    {
      "cell_type": "code",
      "execution_count": 2,
      "metadata": {
        "id": "__FKYclS3WeN"
      },
      "outputs": [],
      "source": [
        "import os\n",
        "import sys\n",
        "import random\n",
        "import numpy as np\n",
        "import pandas as pd\n",
        "from tqdm import tqdm\n",
        "import matplotlib.pyplot as plt\n",
        "from sklearn.metrics import f1_score\n",
        "\n",
        "import torch\n",
        "import torch.nn as nn\n",
        "import torch.nn.functional as F\n",
        "import torch.optim as optim\n",
        "from torch.utils.data import Sampler, BatchSampler, Dataset, DataLoader\n",
        "from torch.nn.utils.rnn import pad_sequence, pack_padded_sequence, pad_packed_sequence\n",
        "\n",
        "from torchtext.vocab import build_vocab_from_iterator\n",
        "from torchtext.data.utils import get_tokenizer\n",
        "\n",
        "from datasets import load_dataset"
      ]
    },
    {
      "cell_type": "code",
      "execution_count": 3,
      "metadata": {
        "id": "pD8xpJF-fuD4"
      },
      "outputs": [],
      "source": [
        "def regularized_f1(train_f1, dev_f1, threshold=0.0015):\n",
        "    \"\"\"\n",
        "    Returns development F1 if overfitting is below threshold, otherwise 0.\n",
        "    \"\"\"\n",
        "    return dev_f1 if (train_f1 - dev_f1) < threshold else 0\n",
        "\n",
        "\n",
        "def save_metrics(*args, path, fname):\n",
        "    if not os.path.exists(path):\n",
        "        os.makedirs(path)\n",
        "    if not os.path.isfile(path + fname):\n",
        "        with open(path + fname, \"w\", newline=\"\\n\") as f:\n",
        "            f.write(\n",
        "                \",\".join(\n",
        "                    [\n",
        "                        \"config\",\n",
        "                        \"epoch\",\n",
        "                        \"train_loss\",\n",
        "                        \"train_acc\",\n",
        "                        \"train_f1\",\n",
        "                        \"val_loss\",\n",
        "                        \"val_acc\",\n",
        "                        \"val_f1\",\n",
        "                    ]\n",
        "                )\n",
        "            )\n",
        "            f.write(\"\\n\")\n",
        "    if args:\n",
        "        with open(path + fname, \"a\", newline=\"\\n\") as f:\n",
        "            f.write(\",\".join([str(arg) for arg in args]))\n",
        "            f.write(\"\\n\")\n",
        "\n",
        "def seed_everything(seed: int):\n",
        "    random.seed(seed)\n",
        "    os.environ[\"PYTHONHASHSEED\"] = str(seed)\n",
        "    np.random.seed(seed)\n",
        "    torch.manual_seed(seed)\n",
        "    torch.cuda.manual_seed(seed)\n",
        "    torch.backends.cudnn.deterministic = True\n",
        "    torch.backends.cudnn.benchmark = True\n",
        "\n",
        "\n",
        "seed_everything(1234)"
      ]
    },
    {
      "cell_type": "code",
      "execution_count": 4,
      "metadata": {
        "id": "RyT10LpwfuD5"
      },
      "outputs": [],
      "source": [
        "VOCAB_SIZE = 20_000\n",
        "BATCH_SIZE = 32\n",
        "NUM_EPOCHS = 15\n",
        "MAX_LEN = 256\n",
        "LEARNING_RATE = 1e-4"
      ]
    },
    {
      "cell_type": "markdown",
      "metadata": {
        "id": "ZxIZ6WaXyQ4s"
      },
      "source": [
        "## Task 1 - Download and prepare the dataset\n",
        "- Load the train and test set of IMDB (it is included in the `datasets` module we imported above)\n",
        "- Split the train set into train and validation set\n",
        "    * Train set should consist of the middle 10% to 85% of data\n",
        "    * Validation set should be the two remaining ends\n",
        "    * You can achieve this slicing directly within the `load_dataset` function, check out the [Huggingface slicing API](https://huggingface.co/docs/datasets/v2.13.1/loading#slice-splits)\n",
        "- Test set should stay unchanged"
      ]
    },
    {
      "cell_type": "code",
      "execution_count": 5,
      "metadata": {
        "colab": {
          "base_uri": "https://localhost:8080/",
          "height": 138,
          "referenced_widgets": [
            "3aa27d57cfd7473baf8322ca852f6028",
            "c50ff1f09b8b496b9fd9de1423b0e9bf",
            "8f63e930cccd42b99e869eef4a454a7e",
            "6e8b36a7526a4bf5a13088340277e5d0",
            "731d456d2ab94d1caca33bf58c54361b",
            "b7b74a2ea5094c1d9eb75c5ba9fcb1cc",
            "ebf31cad73ff4fd596067d8c7bbbc079",
            "7d42ee3c597a45cbae6235ada0a2f2a9",
            "a58954214220432e87cccac832674342",
            "f73e182de8354f60a3799350b9c21ab1",
            "2fd502df059a43b1afa37b70f3f52498"
          ]
        },
        "id": "1VWgLv08fuD5",
        "outputId": "b5b39f2e-3139-4ac8-f981-574880f22d10"
      },
      "outputs": [
        {
          "output_type": "stream",
          "name": "stderr",
          "text": [
            "WARNING:datasets.builder:Found cached dataset imdb (/root/.cache/huggingface/datasets/imdb/plain_text/1.0.0/d613c88cf8fa3bab83b4ded3713f1f74830d1100e171db75bbddb80b3345c9c0)\n"
          ]
        },
        {
          "output_type": "display_data",
          "data": {
            "text/plain": [
              "  0%|          | 0/3 [00:00<?, ?it/s]"
            ],
            "application/vnd.jupyter.widget-view+json": {
              "version_major": 2,
              "version_minor": 0,
              "model_id": "3aa27d57cfd7473baf8322ca852f6028"
            }
          },
          "metadata": {}
        },
        {
          "output_type": "stream",
          "name": "stderr",
          "text": [
            "WARNING:datasets.builder:Found cached dataset imdb (/root/.cache/huggingface/datasets/imdb/plain_text/1.0.0/d613c88cf8fa3bab83b4ded3713f1f74830d1100e171db75bbddb80b3345c9c0)\n",
            "WARNING:datasets.builder:Found cached dataset imdb (/root/.cache/huggingface/datasets/imdb/plain_text/1.0.0/d613c88cf8fa3bab83b4ded3713f1f74830d1100e171db75bbddb80b3345c9c0)\n",
            "WARNING:datasets.builder:Found cached dataset imdb (/root/.cache/huggingface/datasets/imdb/plain_text/1.0.0/d613c88cf8fa3bab83b4ded3713f1f74830d1100e171db75bbddb80b3345c9c0)\n"
          ]
        }
      ],
      "source": [
        "# load dataset in splits\n",
        "dataset = load_dataset(\"imdb\")\n",
        "train_data = load_dataset(\"imdb\", split=\"train[10%:85%]\", )\n",
        "dev_data = load_dataset(\"imdb\", split=\"train[:10%]+train[85%:]\")\n",
        "test_data = load_dataset(\"imdb\", split=\"test\")"
      ]
    },
    {
      "cell_type": "code",
      "execution_count": 6,
      "metadata": {
        "colab": {
          "base_uri": "https://localhost:8080/"
        },
        "id": "0C2TNq3_f6zk",
        "outputId": "fc9f4531-fbfa-4740-d664-693b3b86587d"
      },
      "outputs": [
        {
          "output_type": "execute_result",
          "data": {
            "text/plain": [
              "Dataset({\n",
              "    features: ['text', 'label'],\n",
              "    num_rows: 18750\n",
              "})"
            ]
          },
          "metadata": {},
          "execution_count": 6
        }
      ],
      "source": [
        "train_data"
      ]
    },
    {
      "cell_type": "markdown",
      "metadata": {
        "id": "Ez5uZ7j3fuD5"
      },
      "source": [
        "* Define the tokenizer using `get_tokenizer` with spacy's `en_core_web_sm` module\n",
        "    * You don't have to import spacy for that, but it is necessary to have spacy installed and the `en_core_web_sm` module downloaded\n",
        "* Create the vocabulary using `build_vocab_from_iterator`\n",
        "    * Think about which split(s) should be used to build the vocabulary\n",
        "    * Include two special tokens: `'<UNK>'` at index `0`, `'<PAD>'` at index `1`\n",
        "    * Limit the vocab size to `VOCAB_SIZE`, as defined in the beginning\n",
        "    * Set the vocab's default returning index to `0` by making the `'<UNK>'` token default\n",
        "    \n",
        "Hint:\n",
        "* This might be a good moment to add a personal test to check whether your vocab actually returns `0` for an unknown input token"
      ]
    },
    {
      "cell_type": "code",
      "execution_count": 7,
      "metadata": {
        "id": "-2BRBrlvfuD6"
      },
      "outputs": [],
      "source": [
        "# define tokenizer\n",
        "tokenizer = get_tokenizer(\"spacy\", language=\"en_core_web_sm\")\n",
        "\n",
        "# define vocabulary\n",
        "vocab = build_vocab_from_iterator(\n",
        "    map(tokenizer, train_data[\"text\"]), specials=[\"<UNK>\", \"<PAD>\"], max_tokens=VOCAB_SIZE\n",
        ")\n",
        "vocab.set_default_index(vocab[\"<UNK>\"])"
      ]
    },
    {
      "cell_type": "markdown",
      "metadata": {
        "id": "areMwMjdfuD6"
      },
      "source": [
        "* Use the tokenizer and vocabulary to turn your three data splits into indices\n",
        "* Limit the maximum tokenized sequence length to `MAX_LEN`\n",
        "\n",
        "**Note**:\n",
        "In practice, performing this step on its own during the preprocessing stage is usually not feasible due to the memory constraints associated with storing large datasets. Consequently, the tokenization and indexing steps are typically performed \"on the fly\" within the `DataLoader`, specifically in the `collate_batch` step."
      ]
    },
    {
      "cell_type": "code",
      "execution_count": 8,
      "metadata": {
        "id": "2dzmmmivfuD6"
      },
      "outputs": [],
      "source": [
        "train_idx = [vocab(tokenizer(ex['text']))[:MAX_LEN] for ex in train_data ]\n",
        "dev_idx = [vocab(tokenizer(ex['text']))[:MAX_LEN] for ex in dev_data ]\n",
        "test_idx = [vocab(tokenizer(ex['text']))[:MAX_LEN] for ex in test_data ]"
      ]
    },
    {
      "cell_type": "markdown",
      "metadata": {
        "id": "4GfH_B8cfuD6"
      },
      "source": [
        "* Define a torch dataset by inhereting from `Dataset`\n",
        "* It should create the building block to return the tokenized indices and labels for a given index\n",
        "* Instantiate it"
      ]
    },
    {
      "cell_type": "code",
      "execution_count": 9,
      "metadata": {
        "id": "gHCeYDkLfuD7"
      },
      "outputs": [],
      "source": [
        "class ImdbDataset(Dataset):\n",
        "    def __init__(self, seq, lbl):\n",
        "        self.seq = seq\n",
        "        self.lbl = lbl\n",
        "\n",
        "    def __getitem__(self, idx: int):\n",
        "\n",
        "        return torch.LongTensor(self.seq[idx]), torch.tensor(self.lbl[idx])\n",
        "\n",
        "    def __len__(self):\n",
        "        return len(self.seq)"
      ]
    },
    {
      "cell_type": "code",
      "execution_count": 10,
      "metadata": {
        "id": "zKq2EIbEfuD7"
      },
      "outputs": [],
      "source": [
        "train_set = ImdbDataset(train_idx, train_data['label'])"
      ]
    },
    {
      "cell_type": "markdown",
      "metadata": {
        "id": "nA5ZCFGpfuD7"
      },
      "source": [
        "* Having batches in which samples have a similar length, and thus less padding variations, improves training results\n",
        "* A `GroupedSampler` allows us to create a sampler with which we can customize the data loading process\n",
        "* It can then be implemented into the `DataLoader`, which automates loading data in multiple processes\n",
        "* Write a sampler which allows us to group together samples of similar length into a batch\n",
        "    * The `GroupedSampler` takes as input the tokenized sequences from `ImdbDataset`, as well as the batch size\n",
        "    * First, in the `__init__` method, pair each sequence index with its tokenized sequence length\n",
        "        * The result should be a list of tuples: `[(index, tokenized_sequence_length), ...]`\n",
        "    * In the `__iter__` method, we now:\n",
        "        * Shuffle the list\n",
        "        * generate groups of size `BATCH_SIZE * 100`\n",
        "        * Each group of size `BATCH_SIZE * 100` should be sorted in itself by the sequence length we calculated above\n",
        "            * Sorting within each group is important because sorting based on the whole dataset would eliminate all training input variations\n",
        "            * By shuffling in the `__iter__` method, we shuffle the set of indices in each new iteration (which equals an epoch), therefore, we keep input variation\n",
        "        * The result should be a list of tuples sorted by ascending sequence length: `[(index, tokenized_sequence_length), ...]`\n",
        "        * After each `BATCH_SIZE * 100` number of tuples, the sequence length of samples should drop and increase again\n",
        "        * Example:\n",
        "            ```\n",
        "            Sample index 3199: (1234, 256)\n",
        "            Sample index 3200: (567, 32)\n",
        "            Sample index 3201: (890, 33)\n",
        "            ```\n",
        "        * Filter the created and sorted list to only consist of indices. Make sure to keep the sorting!\n",
        "        * Return this list as an iterator\n",
        "    * Complete the `__len__` method"
      ]
    },
    {
      "cell_type": "code",
      "execution_count": 11,
      "metadata": {
        "id": "oJ0V7R4bfuD7"
      },
      "outputs": [],
      "source": [
        "class GroupedSampler(Sampler):\n",
        "    def __init__(self, seqs, batch_size):\n",
        "        self.seqs = [seq[0] for seq in seqs]\n",
        "        self.batch_size = batch_size\n",
        "        self.pair = [(i, len(seq)) for i, seq in enumerate(self.seqs)]\n",
        "\n",
        "    def __iter__(self):\n",
        "        random.shuffle(self.pair)\n",
        "        batches = []\n",
        "        for i in range(0, len(self.pair), self.batch_size * 100):\n",
        "            batch = []\n",
        "            for j in range(i, min(i + self.batch_size * 100, len(self.pair))):\n",
        "                batch.append(self.pair[j])\n",
        "            batch.sort(key=lambda x: x[1])\n",
        "            batches.append(batch)\n",
        "        # batches = [self.pair[i:i + self.batch_size * 100] for i in range(0, len(self.pair), self.batch_size * 100)]\n",
        "        for batch in batches:\n",
        "            batch.sort(key=lambda x: x[1])\n",
        "        # print(batches)\n",
        "        index_batches = [[index for index, _ in sorted_batch] for sorted_batch in batches]\n",
        "        return iter(index_batches)\n",
        "\n",
        "    def __len__(self):\n",
        "        return len(self.pair)"
      ]
    },
    {
      "cell_type": "markdown",
      "metadata": {
        "id": "tGyhj0JkfuD7"
      },
      "source": [
        "* Now create the `GroupedSampler`, use it as input to create a `BatchSampler` (imported in the beginning)"
      ]
    },
    {
      "cell_type": "markdown",
      "metadata": {
        "id": "Qsp416RRfuD8"
      },
      "source": [
        "* Define a collate function which takes in a `batch` of tokenized sequences and labels created by the `BatchSampler`\n",
        "    * Make sure to understand the structure of an input `batch`. Test around a bit to see what exactly they return.\n",
        "* The collate function then:\n",
        "    * pads these indices to the same length\n",
        "        * use `padding_value=1`, `0` should be reserved for `UNK` token\n",
        "    * turns the labels into tensors\n",
        "    * finally, it creates a tensor which stores the length of all tokenized sentences **before** padding\n",
        "    * the function should return 3 batched tensors: sequences, labels, lengths"
      ]
    },
    {
      "cell_type": "code",
      "execution_count": 12,
      "metadata": {
        "id": "-wOZuYtzyv8J"
      },
      "outputs": [],
      "source": [
        "# define collate function\n",
        "def collate_batch(batch):\n",
        "    sequences, labels = zip(*batch)\n",
        "\n",
        "    # Pad the sequences to the same length and turn them into a tensor\n",
        "    padded_sequences = pad_sequence(sequences, batch_first=True, padding_value=1)\n",
        "\n",
        "    # Convert the labels into a tensor\n",
        "    tensor_labels = torch.tensor(labels, dtype=torch.float32)\n",
        "\n",
        "    # Get the lengths of all tokenized sentences before padding\n",
        "    lengths = torch.tensor([len(seq) for seq in sequences])\n",
        "\n",
        "    return padded_sequences, tensor_labels, lengths"
      ]
    },
    {
      "cell_type": "markdown",
      "metadata": {
        "id": "Oy-igjj4fuD8"
      },
      "source": [
        "* Now create the final `DataLoader` for the train set\n",
        "    * For your training, set the number of workers to your liking/cpu cores setup\n",
        "    * When submitting this exercise, please set `num_workers=2` at maximum\n",
        "* Repeat the `DataLoader` creation process for the validation and test set\n",
        "    * It is not necessary to introduce randomness into the validation and test set\n",
        "    * Create an `ImdbDataset` and `DataLoader` instance\n",
        "    * leave `shuffle` off and don't include any Samplers\n",
        "    * still include the correct batch size and collate function"
      ]
    },
    {
      "cell_type": "code",
      "execution_count": 13,
      "metadata": {
        "id": "MXYOxtTsfuD8"
      },
      "outputs": [],
      "source": [
        "# create dataloaders\n",
        "train_loader = DataLoader(\n",
        "    train_set,\n",
        "    batch_size=BATCH_SIZE,\n",
        "    collate_fn=collate_batch,\n",
        "    num_workers=2,\n",
        "    shuffle=False,\n",
        ")\n",
        "\n",
        "dev_set = ImdbDataset(dev_idx, dev_data['label'])\n",
        "test_set = ImdbDataset(test_idx, test_data['label'])\n",
        "\n",
        "dev_loader = DataLoader(\n",
        "    dev_set,\n",
        "    batch_size=BATCH_SIZE,\n",
        "    collate_fn=collate_batch,\n",
        "    num_workers=2,\n",
        "    shuffle=False,\n",
        ")\n",
        "\n",
        "test_loader = DataLoader(\n",
        "    test_set,\n",
        "    batch_size=BATCH_SIZE,\n",
        "    collate_fn=collate_batch,\n",
        "    num_workers=2,\n",
        "    shuffle=False,\n",
        ")"
      ]
    },
    {
      "cell_type": "markdown",
      "metadata": {
        "id": "vtlVac9byJHb"
      },
      "source": [
        "## Task 2 - Build Your Model\n",
        "The model should consist of:\n",
        "- an **embedding layer**, which takes `vocab_size` and `embedding_dim` as parameters\n",
        "- a **dropout layer**, which takes `dropout` as a parameter\n",
        "- an **LSTM layer**, which takes `embedding_dim` and `rnn_size` as parameters, and is bidirectional\n",
        "- a **linear layer**, which takes the dimension of rnn output as input dimension and returns an output of `hidden_size` dimensions\n",
        "- a **linear layer**, which first takes the previous layers output as input and returns one prediction per class of the dataset\n",
        "- the output of the BiLSTM has hidden representation tensors for each index of each sequence. However, for the task of sequence classification, we just need one hidden representation tensor per sequence. Use `torch.mean()` as a pooling function for dimensionality reduction.\n",
        "- use **dropout** on the embeddings and appropriate linear layer\n",
        "- use **ReLU** as the activation function on the appropriate linear layer\n",
        "\n",
        "_Hints:_\n",
        "  - keep the position of the batch dimension equal across all layers\n",
        "  - _use `pack_padded_sequence`_ and `pad_packed_sequence` at the appropriate steps. For more information, check out [this answer on stackoverflow](https://stackoverflow.com/a/56211056)\n",
        "  - remember to include the `padding_idx=1` at relevant positions\n",
        "  - as this is a binary classification task, it is possible to have 1 or 2 output neurons. Use your preference, but adjust the loss function towards your choice"
      ]
    },
    {
      "cell_type": "code",
      "execution_count": 14,
      "metadata": {
        "id": "U9Hn5r0J5IeR"
      },
      "outputs": [],
      "source": [
        "class BiLSTM(nn.Module):\n",
        "    def __init__(self, vocab_size, embedding_dim, rnn_size, hidden_size, dropout):\n",
        "        super().__init__()\n",
        "\n",
        "        self.embedding = nn.Embedding(vocab_size, embedding_dim, padding_idx=1)\n",
        "        self.dropout = nn.Dropout(dropout)\n",
        "        self.lstm = nn.LSTM(embedding_dim, rnn_size, bidirectional=True, batch_first=True)\n",
        "        self.pooling = nn.Linear(rnn_size * 2, hidden_size)\n",
        "        self.fc1 = nn.Linear(hidden_size, 1)\n",
        "\n",
        "    def forward(self, seq, lengths):\n",
        "        embedded = self.dropout(self.embedding(seq))\n",
        "\n",
        "        packed_embedded = nn.utils.rnn.pack_padded_sequence(embedded, lengths, batch_first=True, enforce_sorted=False)\n",
        "        packed_output, (hidden, cell) = self.lstm(packed_embedded)\n",
        "        output, _ = nn.utils.rnn.pad_packed_sequence(packed_output, batch_first=True)\n",
        "\n",
        "        hidden = self.dropout(torch.mean(output, dim=1))\n",
        "        pooling_output = F.relu(self.pooling(hidden))\n",
        "        output = self.fc1(pooling_output)\n",
        "\n",
        "        return output.flatten()"
      ]
    },
    {
      "cell_type": "markdown",
      "metadata": {
        "id": "MALP7MELyRB_"
      },
      "source": [
        "## Task 3 - Inner train loop\n",
        "* Create a global `device` variable which checks whether a GPU is available or not, and sets the device to either GPU or CPU."
      ]
    },
    {
      "cell_type": "code",
      "execution_count": 15,
      "metadata": {
        "id": "SuI6_4vzfuD9"
      },
      "outputs": [],
      "source": [
        "device = torch.device(\"cuda\" if torch.cuda.is_available() else \"cpu\")"
      ]
    },
    {
      "cell_type": "markdown",
      "metadata": {
        "id": "6ZPUTbsTfuD9"
      },
      "source": [
        "* Write the inner train/test loop by completing the function `process`.\n",
        "    * It takes the model, a dataloader, criterion and optionally the optimizer\n",
        "    * The function iterates once through the dataloader, i.e. one epoch\n",
        "    * Include the `tqdm` functionality for the loop through the dataloader by placing the loader inside `tqdm()`\n",
        "        * Print its output to `file=sys.stdout`, and use `'batches'` as unit\n",
        "        * You can also add a `desc='...'` to get a marking whether we currently train or evaluate\n",
        "    * The function also moves the sequences and labels to `device`\n",
        "    * The `lengths` need to stay on CPU!\n",
        "    * If the optimizer is given, training with backpropagation is performed, then the below defined metrics are returned\n",
        "    * If the optimizer is missing, evaluation is performed and the below described metrics are calculated\n",
        "    * Values to be calculated:\n",
        "        * Loss, Accuracy, both as averages of the total number of samples per epoch\n",
        "        * F1 score between all predictions and labels of the epoch"
      ]
    },
    {
      "cell_type": "code",
      "execution_count": 16,
      "metadata": {
        "id": "UO1qHO_YxjYx"
      },
      "outputs": [],
      "source": [
        "def process(model, loader, criterion, optim=None, device='cuda', train=False):\n",
        "\n",
        "    if train:\n",
        "        model.train()\n",
        "        desc = 'Training'\n",
        "    else:\n",
        "        model.eval()\n",
        "        desc = 'Evaluating'\n",
        "\n",
        "    total_loss = 0.0\n",
        "    all_predictions = []\n",
        "    all_labels = []\n",
        "\n",
        "    with torch.no_grad() if optim is None else torch.enable_grad():\n",
        "        for batch in tqdm(loader, file=sys.stdout, unit='batches', desc=desc):\n",
        "            # Move sequences and labels to the specified device\n",
        "            sequences, labels, lengths = batch\n",
        "            sequences, labels = sequences.to(device), labels.to(device)\n",
        "\n",
        "            # Forward pass\n",
        "            outputs = model(sequences, lengths)\n",
        "            preds = torch.round(torch.sigmoid(outputs))\n",
        "            # Calculate loss\n",
        "            loss = criterion(outputs, labels)\n",
        "            total_loss += loss.item()\n",
        "\n",
        "            if optim is not None:\n",
        "                # Backpropagation and optimization during training\n",
        "                optim.zero_grad()\n",
        "                loss.backward()\n",
        "                optim.step()\n",
        "\n",
        "\n",
        "            # Collect predictions and labels for F1 score and accuracy calculation\n",
        "            all_predictions.append(preds)\n",
        "            all_labels.append(labels)\n",
        "\n",
        "    # Calculate average loss, F1 score, and accuracy\n",
        "    avg_loss = total_loss / len(loader)\n",
        "    all_predictions = torch.cat(all_predictions, dim=0)\n",
        "    all_labels = torch.cat(all_labels, dim=0)\n",
        "\n",
        "    f1 = f1_score(all_labels.cpu(), all_predictions.detach().cpu(), average='weighted')\n",
        "    correct = sum(1 for lbl, pred in zip(all_labels.cpu(), all_predictions.detach().cpu()) if lbl == pred)\n",
        "    total = len(all_labels.cpu())\n",
        "    accuracy = correct / total\n",
        "\n",
        "    return avg_loss, accuracy, f1"
      ]
    },
    {
      "cell_type": "markdown",
      "metadata": {
        "id": "NF8rwd8P7Tib"
      },
      "source": [
        "# Task 4 - Training and Hyperparameter Optimization\n",
        "In the following, we provide 3 configurations for the above created BiLSTM. Try to understand how they differ from each other."
      ]
    },
    {
      "cell_type": "code",
      "execution_count": 17,
      "metadata": {
        "id": "xsrISVzGfuD9"
      },
      "outputs": [],
      "source": [
        "configs = {\n",
        "    \"config1\": {\n",
        "        \"vocab_size\": VOCAB_SIZE,\n",
        "        \"embedding_dim\": 10,\n",
        "        \"hidden_size\": 10,\n",
        "        \"rnn_size\": 10,\n",
        "        \"dropout\": 0.5\n",
        "    },\n",
        "    \"config2\": {\n",
        "        \"vocab_size\": VOCAB_SIZE,\n",
        "        \"embedding_dim\": 64,\n",
        "        \"hidden_size\": 32,\n",
        "        \"rnn_size\": 256,\n",
        "        \"dropout\": 0.5\n",
        "    },\n",
        "    \"config3\": {\n",
        "        \"vocab_size\": VOCAB_SIZE,\n",
        "        \"embedding_dim\": 300,\n",
        "        \"hidden_size\": 256,\n",
        "        \"rnn_size\": 256,\n",
        "        \"dropout\": 0.5\n",
        "    }\n",
        "\n",
        "}"
      ]
    },
    {
      "cell_type": "markdown",
      "metadata": {
        "id": "nA20LuK6fuD-"
      },
      "source": [
        "* Choose the correct criterion to train and evaluate your created model"
      ]
    },
    {
      "cell_type": "code",
      "execution_count": 18,
      "metadata": {
        "id": "orAFVm4cfuD-"
      },
      "outputs": [],
      "source": [
        "criterion = nn.BCEWithLogitsLoss()"
      ]
    },
    {
      "cell_type": "markdown",
      "metadata": {
        "id": "GRTGPHxtfuD-"
      },
      "source": [
        "Use the given functions `regularized_f1` and `save_metrics` from the start of the notebook to implement the hyperparameter search and training runs.\n",
        "\n",
        "Specifically:\n",
        "* Iterate through each configuration\n",
        "* Create and re-create the model for each new configuration run\n",
        "    * Move the model to the `device`\n",
        "* Create and re-create the optimizer with each new configuration model's paramaters\n",
        "    * Use Adam as the optimizer\n",
        "    * Use the learning rate defined at the beginning of notebook\n",
        "* Train each configuration for `NUM_EPOCHS` epochs\n",
        "* Change the model into train and evaluation mode at appropriate times\n",
        "* Stop gradient calculation for evaluation runs\n",
        "* Save metrics after each train and evaluation runs.\n",
        "    * Have a look at the function to see what the expected inputs are\n",
        "    * In the `.csv` file, only numbers should be entered\n",
        "    * For instance, the inputs for the columns `config` and `epoch` should be e.g. `1`, _not_ `config1` or `epoch1`\n",
        "* Optional: Print training progress for your own information\n",
        "\n",
        "In order to check whether our model generalizes or just 'remembers', we need to compare the model's performance on the train set to the performance on the validation set. As we are only interested in non-overfitting performances, we only want to save model checkpoints when the model actually generalizes, i.e. has a higher F1 score on the validation set than on the train set.\n",
        "* Calculate the regularized f1 score using the given function\n",
        "* Keep track of multiple values during training:\n",
        "    * Save the overall (i.e. across all configs *and* epochs) highest validation F1 score\n",
        "        * Save your best model parameters\n",
        "        * Overwrite your model parameters every time your model fulfills both the `regularized_f1` criteria and is better than the previous overall highest F1 score\n",
        "        * In the end, the last saved `best_model.pt` parameters are automatically the best\n",
        "        * Hint: Keep track (e.g. by printing or in a variable), which config produced the best model, so you can directly load that config for the test set run.\n",
        "    * Track the highest F1 score inside a configuration but across epochs\n",
        "        * Implement early-stopping for a configuration run if 3 consecutive epochs are below the highest F1 score for the current configuration"
      ]
    },
    {
      "cell_type": "code",
      "execution_count": 19,
      "metadata": {
        "id": "yySy13YpfuD-",
        "colab": {
          "base_uri": "https://localhost:8080/"
        },
        "outputId": "7eca4e87-df56-4df1-9705-292b64edfa0a"
      },
      "outputs": [
        {
          "output_type": "stream",
          "name": "stdout",
          "text": [
            "Training: 100%|██████████| 586/586 [00:15<00:00, 38.20batches/s]\n",
            "Evaluating: 100%|██████████| 196/196 [00:02<00:00, 76.94batches/s]\n",
            "Training: 100%|██████████| 586/586 [00:17<00:00, 33.54batches/s]\n",
            "Evaluating: 100%|██████████| 196/196 [00:02<00:00, 90.68batches/s] \n",
            "Training: 100%|██████████| 586/586 [00:20<00:00, 28.16batches/s]\n",
            "Evaluating: 100%|██████████| 196/196 [00:02<00:00, 90.78batches/s] \n",
            "Training: 100%|██████████| 586/586 [00:15<00:00, 37.32batches/s]\n",
            "Evaluating: 100%|██████████| 196/196 [00:03<00:00, 61.52batches/s]\n",
            "Training: 100%|██████████| 586/586 [00:15<00:00, 38.52batches/s]\n",
            "Evaluating: 100%|██████████| 196/196 [00:02<00:00, 91.40batches/s] \n",
            "Training: 100%|██████████| 586/586 [00:15<00:00, 38.71batches/s]\n",
            "Evaluating: 100%|██████████| 196/196 [00:02<00:00, 91.31batches/s] \n",
            "Early stopping for config 1 at epoch 5\n",
            "Training: 100%|██████████| 586/586 [00:22<00:00, 25.78batches/s]\n",
            "Evaluating: 100%|██████████| 196/196 [00:02<00:00, 73.07batches/s]\n",
            "Training: 100%|██████████| 586/586 [00:21<00:00, 27.71batches/s]\n",
            "Evaluating: 100%|██████████| 196/196 [00:03<00:00, 53.08batches/s]\n",
            "Training: 100%|██████████| 586/586 [00:21<00:00, 27.57batches/s]\n",
            "Evaluating: 100%|██████████| 196/196 [00:02<00:00, 73.20batches/s]\n",
            "Training: 100%|██████████| 586/586 [00:22<00:00, 26.61batches/s]\n",
            "Evaluating: 100%|██████████| 196/196 [00:02<00:00, 73.10batches/s]\n",
            "Early stopping for config 2 at epoch 3\n",
            "Training: 100%|██████████| 586/586 [00:23<00:00, 24.73batches/s]\n",
            "Evaluating: 100%|██████████| 196/196 [00:03<00:00, 62.07batches/s]\n",
            "Training: 100%|██████████| 586/586 [00:22<00:00, 25.85batches/s]\n",
            "Evaluating: 100%|██████████| 196/196 [00:04<00:00, 47.59batches/s]\n",
            "Training: 100%|██████████| 586/586 [00:23<00:00, 24.96batches/s]\n",
            "Evaluating: 100%|██████████| 196/196 [00:03<00:00, 62.15batches/s]\n",
            "Training: 100%|██████████| 586/586 [00:23<00:00, 24.80batches/s]\n",
            "Evaluating: 100%|██████████| 196/196 [00:02<00:00, 71.95batches/s]\n",
            "Early stopping for config 3 at epoch 3\n"
          ]
        },
        {
          "output_type": "execute_result",
          "data": {
            "text/plain": [
              "BiLSTM(\n",
              "  (embedding): Embedding(20000, 300, padding_idx=1)\n",
              "  (dropout): Dropout(p=0.5, inplace=False)\n",
              "  (lstm): LSTM(300, 256, batch_first=True, bidirectional=True)\n",
              "  (pooling): Linear(in_features=512, out_features=256, bias=True)\n",
              "  (fc1): Linear(in_features=256, out_features=1, bias=True)\n",
              ")"
            ]
          },
          "metadata": {},
          "execution_count": 19
        }
      ],
      "source": [
        "path = './'\n",
        "logging_file = 'results.csv'\n",
        "\n",
        "for config_n, (config_name, config) in enumerate(configs.items(), start=1):\n",
        "    # Create and re-create the model for each new configuration run\n",
        "    model = BiLSTM(**config)\n",
        "    model.to(device)\n",
        "\n",
        "    # Create and re-create the optimizer with each new configuration model's parameters\n",
        "    optimizer = torch.optim.Adam(model.parameters(), lr=LEARNING_RATE)\n",
        "\n",
        "    # Initialize variables for early stopping\n",
        "    best_f1 = -1\n",
        "    best_overall_f1 = -1\n",
        "    consecutive_epochs_below_best = 0\n",
        "    best_model_config = config_n\n",
        "    for epoch in range(NUM_EPOCHS):\n",
        "        # Training\n",
        "        model.train()\n",
        "        train_loss, train_acc, train_f1 = process(model, train_loader, criterion, optimizer, device=device, train=True)\n",
        "\n",
        "        # Evaluation\n",
        "        model.eval()\n",
        "        val_loss, val_acc, val_f1 = process(model, dev_loader, criterion, device=device, train=False)\n",
        "\n",
        "        # Save metrics\n",
        "        save_metrics(config_n, epoch, train_loss, train_acc, train_f1, val_loss, val_acc, val_f1, path=path, fname=logging_file)\n",
        "\n",
        "        # Calculate regularized F1\n",
        "        reg_f1 = regularized_f1(train_f1, val_f1)\n",
        "\n",
        "        # Check if this model is the best overall\n",
        "        if reg_f1 > best_overall_f1:\n",
        "            best_overall_f1 = reg_f1\n",
        "            best_model_config = config_name\n",
        "            # Save the model checkpoint\n",
        "            torch.save(model.state_dict(), 'best_model.pt')\n",
        "\n",
        "        # Check if early stopping should be applied\n",
        "        if val_f1 > best_f1:\n",
        "            best_f1 = val_f1\n",
        "            consecutive_epochs_below_best = 0\n",
        "        else:\n",
        "            consecutive_epochs_below_best += 1\n",
        "\n",
        "        if consecutive_epochs_below_best >= 3:\n",
        "            print(f\"Early stopping for config {config_n} at epoch {epoch}\")\n",
        "            break\n",
        "\n",
        "# After all configurations are done, load the best model\n",
        "best_model = BiLSTM(**configs[best_model_config])\n",
        "best_model.load_state_dict(torch.load('best_model.pt'))\n",
        "best_model.to(device)"
      ]
    },
    {
      "cell_type": "markdown",
      "metadata": {
        "id": "lRQxVvWAfuD-"
      },
      "source": [
        "* Load in the created `results.csv` file\n",
        "* Create 6 plots: 3 rows with each 2 sub-plots\n",
        "* Each row of plots should correspond to a configuration\n",
        "* Each left plot shows the loss progression per epoch\n",
        "    * Include both train and evaluation progress in the same plot, but plot the evaluation lines dashed\n",
        "    * Plot losses in blue\n",
        "* Each right plot shows both the accuracy and F1 progression per epoch\n",
        "    * Include both train and evaluation progess in the same plot, but plot the evaluation lines dashed\n",
        "    * Plot accuracy in orange, and plot F1 in green\n",
        "* Have a look at the example plot file included with this exercise. It constitutes one row of the plot.\n",
        "* After plotting, briefly describe what problems and successes you see with each configuration"
      ]
    },
    {
      "cell_type": "code",
      "execution_count": 20,
      "metadata": {
        "id": "JS6AtiihfuD-"
      },
      "outputs": [],
      "source": [
        "df = pd.read_csv('results.csv')"
      ]
    },
    {
      "cell_type": "code",
      "execution_count": 21,
      "metadata": {
        "colab": {
          "base_uri": "https://localhost:8080/",
          "height": 488
        },
        "id": "KYpN9quyf6zq",
        "outputId": "a6db6340-6d93-4fd3-c697-51ca57048921"
      },
      "outputs": [
        {
          "output_type": "execute_result",
          "data": {
            "text/plain": [
              "    config  epoch  train_loss  train_acc  train_f1  val_loss  val_acc  \\\n",
              "0        1      0    0.698700   0.428000  0.427423  0.688283  0.60000   \n",
              "1        1      1    0.697063   0.450240  0.432652  0.690066  0.60000   \n",
              "2        1      2    0.695837   0.471893  0.428431  0.691575  0.55824   \n",
              "3        1      3    0.695138   0.485973  0.418777  0.692956  0.50096   \n",
              "4        1      4    0.694861   0.499520  0.407317  0.694186  0.47344   \n",
              "5        1      5    0.694280   0.509653  0.398212  0.695156  0.44944   \n",
              "6        2      0    0.435418   0.886347  0.885220  2.883664  0.60000   \n",
              "7        2      1    0.830694   0.437387  0.437790  0.684612  0.60000   \n",
              "8        2      2    0.693457   0.448000  0.442883  0.676950  0.60000   \n",
              "9        2      3    0.694455   0.490613  0.472311  0.678295  0.60000   \n",
              "10       3      0    0.365937   0.921973  0.921074  3.361689  0.60000   \n",
              "11       3      1    0.795311   0.601813  0.558559  0.684786  0.60000   \n",
              "12       3      2    0.565984   0.663467  0.659574  2.238231  0.60000   \n",
              "13       3      3    0.614532   0.748907  0.743339  1.679827  0.60000   \n",
              "\n",
              "      val_f1  \n",
              "0   0.450000  \n",
              "1   0.450000  \n",
              "2   0.518131  \n",
              "3   0.506001  \n",
              "4   0.466880  \n",
              "5   0.400544  \n",
              "6   0.450000  \n",
              "7   0.450000  \n",
              "8   0.450000  \n",
              "9   0.450000  \n",
              "10  0.450000  \n",
              "11  0.450000  \n",
              "12  0.450000  \n",
              "13  0.450000  "
            ],
            "text/html": [
              "\n",
              "  <div id=\"df-933678d7-7fc1-4a7d-b954-7a58ad6da3cf\" class=\"colab-df-container\">\n",
              "    <div>\n",
              "<style scoped>\n",
              "    .dataframe tbody tr th:only-of-type {\n",
              "        vertical-align: middle;\n",
              "    }\n",
              "\n",
              "    .dataframe tbody tr th {\n",
              "        vertical-align: top;\n",
              "    }\n",
              "\n",
              "    .dataframe thead th {\n",
              "        text-align: right;\n",
              "    }\n",
              "</style>\n",
              "<table border=\"1\" class=\"dataframe\">\n",
              "  <thead>\n",
              "    <tr style=\"text-align: right;\">\n",
              "      <th></th>\n",
              "      <th>config</th>\n",
              "      <th>epoch</th>\n",
              "      <th>train_loss</th>\n",
              "      <th>train_acc</th>\n",
              "      <th>train_f1</th>\n",
              "      <th>val_loss</th>\n",
              "      <th>val_acc</th>\n",
              "      <th>val_f1</th>\n",
              "    </tr>\n",
              "  </thead>\n",
              "  <tbody>\n",
              "    <tr>\n",
              "      <th>0</th>\n",
              "      <td>1</td>\n",
              "      <td>0</td>\n",
              "      <td>0.698700</td>\n",
              "      <td>0.428000</td>\n",
              "      <td>0.427423</td>\n",
              "      <td>0.688283</td>\n",
              "      <td>0.60000</td>\n",
              "      <td>0.450000</td>\n",
              "    </tr>\n",
              "    <tr>\n",
              "      <th>1</th>\n",
              "      <td>1</td>\n",
              "      <td>1</td>\n",
              "      <td>0.697063</td>\n",
              "      <td>0.450240</td>\n",
              "      <td>0.432652</td>\n",
              "      <td>0.690066</td>\n",
              "      <td>0.60000</td>\n",
              "      <td>0.450000</td>\n",
              "    </tr>\n",
              "    <tr>\n",
              "      <th>2</th>\n",
              "      <td>1</td>\n",
              "      <td>2</td>\n",
              "      <td>0.695837</td>\n",
              "      <td>0.471893</td>\n",
              "      <td>0.428431</td>\n",
              "      <td>0.691575</td>\n",
              "      <td>0.55824</td>\n",
              "      <td>0.518131</td>\n",
              "    </tr>\n",
              "    <tr>\n",
              "      <th>3</th>\n",
              "      <td>1</td>\n",
              "      <td>3</td>\n",
              "      <td>0.695138</td>\n",
              "      <td>0.485973</td>\n",
              "      <td>0.418777</td>\n",
              "      <td>0.692956</td>\n",
              "      <td>0.50096</td>\n",
              "      <td>0.506001</td>\n",
              "    </tr>\n",
              "    <tr>\n",
              "      <th>4</th>\n",
              "      <td>1</td>\n",
              "      <td>4</td>\n",
              "      <td>0.694861</td>\n",
              "      <td>0.499520</td>\n",
              "      <td>0.407317</td>\n",
              "      <td>0.694186</td>\n",
              "      <td>0.47344</td>\n",
              "      <td>0.466880</td>\n",
              "    </tr>\n",
              "    <tr>\n",
              "      <th>5</th>\n",
              "      <td>1</td>\n",
              "      <td>5</td>\n",
              "      <td>0.694280</td>\n",
              "      <td>0.509653</td>\n",
              "      <td>0.398212</td>\n",
              "      <td>0.695156</td>\n",
              "      <td>0.44944</td>\n",
              "      <td>0.400544</td>\n",
              "    </tr>\n",
              "    <tr>\n",
              "      <th>6</th>\n",
              "      <td>2</td>\n",
              "      <td>0</td>\n",
              "      <td>0.435418</td>\n",
              "      <td>0.886347</td>\n",
              "      <td>0.885220</td>\n",
              "      <td>2.883664</td>\n",
              "      <td>0.60000</td>\n",
              "      <td>0.450000</td>\n",
              "    </tr>\n",
              "    <tr>\n",
              "      <th>7</th>\n",
              "      <td>2</td>\n",
              "      <td>1</td>\n",
              "      <td>0.830694</td>\n",
              "      <td>0.437387</td>\n",
              "      <td>0.437790</td>\n",
              "      <td>0.684612</td>\n",
              "      <td>0.60000</td>\n",
              "      <td>0.450000</td>\n",
              "    </tr>\n",
              "    <tr>\n",
              "      <th>8</th>\n",
              "      <td>2</td>\n",
              "      <td>2</td>\n",
              "      <td>0.693457</td>\n",
              "      <td>0.448000</td>\n",
              "      <td>0.442883</td>\n",
              "      <td>0.676950</td>\n",
              "      <td>0.60000</td>\n",
              "      <td>0.450000</td>\n",
              "    </tr>\n",
              "    <tr>\n",
              "      <th>9</th>\n",
              "      <td>2</td>\n",
              "      <td>3</td>\n",
              "      <td>0.694455</td>\n",
              "      <td>0.490613</td>\n",
              "      <td>0.472311</td>\n",
              "      <td>0.678295</td>\n",
              "      <td>0.60000</td>\n",
              "      <td>0.450000</td>\n",
              "    </tr>\n",
              "    <tr>\n",
              "      <th>10</th>\n",
              "      <td>3</td>\n",
              "      <td>0</td>\n",
              "      <td>0.365937</td>\n",
              "      <td>0.921973</td>\n",
              "      <td>0.921074</td>\n",
              "      <td>3.361689</td>\n",
              "      <td>0.60000</td>\n",
              "      <td>0.450000</td>\n",
              "    </tr>\n",
              "    <tr>\n",
              "      <th>11</th>\n",
              "      <td>3</td>\n",
              "      <td>1</td>\n",
              "      <td>0.795311</td>\n",
              "      <td>0.601813</td>\n",
              "      <td>0.558559</td>\n",
              "      <td>0.684786</td>\n",
              "      <td>0.60000</td>\n",
              "      <td>0.450000</td>\n",
              "    </tr>\n",
              "    <tr>\n",
              "      <th>12</th>\n",
              "      <td>3</td>\n",
              "      <td>2</td>\n",
              "      <td>0.565984</td>\n",
              "      <td>0.663467</td>\n",
              "      <td>0.659574</td>\n",
              "      <td>2.238231</td>\n",
              "      <td>0.60000</td>\n",
              "      <td>0.450000</td>\n",
              "    </tr>\n",
              "    <tr>\n",
              "      <th>13</th>\n",
              "      <td>3</td>\n",
              "      <td>3</td>\n",
              "      <td>0.614532</td>\n",
              "      <td>0.748907</td>\n",
              "      <td>0.743339</td>\n",
              "      <td>1.679827</td>\n",
              "      <td>0.60000</td>\n",
              "      <td>0.450000</td>\n",
              "    </tr>\n",
              "  </tbody>\n",
              "</table>\n",
              "</div>\n",
              "    <div class=\"colab-df-buttons\">\n",
              "\n",
              "  <div class=\"colab-df-container\">\n",
              "    <button class=\"colab-df-convert\" onclick=\"convertToInteractive('df-933678d7-7fc1-4a7d-b954-7a58ad6da3cf')\"\n",
              "            title=\"Convert this dataframe to an interactive table.\"\n",
              "            style=\"display:none;\">\n",
              "\n",
              "  <svg xmlns=\"http://www.w3.org/2000/svg\" height=\"24px\" viewBox=\"0 -960 960 960\">\n",
              "    <path d=\"M120-120v-720h720v720H120Zm60-500h600v-160H180v160Zm220 220h160v-160H400v160Zm0 220h160v-160H400v160ZM180-400h160v-160H180v160Zm440 0h160v-160H620v160ZM180-180h160v-160H180v160Zm440 0h160v-160H620v160Z\"/>\n",
              "  </svg>\n",
              "    </button>\n",
              "\n",
              "  <style>\n",
              "    .colab-df-container {\n",
              "      display:flex;\n",
              "      gap: 12px;\n",
              "    }\n",
              "\n",
              "    .colab-df-convert {\n",
              "      background-color: #E8F0FE;\n",
              "      border: none;\n",
              "      border-radius: 50%;\n",
              "      cursor: pointer;\n",
              "      display: none;\n",
              "      fill: #1967D2;\n",
              "      height: 32px;\n",
              "      padding: 0 0 0 0;\n",
              "      width: 32px;\n",
              "    }\n",
              "\n",
              "    .colab-df-convert:hover {\n",
              "      background-color: #E2EBFA;\n",
              "      box-shadow: 0px 1px 2px rgba(60, 64, 67, 0.3), 0px 1px 3px 1px rgba(60, 64, 67, 0.15);\n",
              "      fill: #174EA6;\n",
              "    }\n",
              "\n",
              "    .colab-df-buttons div {\n",
              "      margin-bottom: 4px;\n",
              "    }\n",
              "\n",
              "    [theme=dark] .colab-df-convert {\n",
              "      background-color: #3B4455;\n",
              "      fill: #D2E3FC;\n",
              "    }\n",
              "\n",
              "    [theme=dark] .colab-df-convert:hover {\n",
              "      background-color: #434B5C;\n",
              "      box-shadow: 0px 1px 3px 1px rgba(0, 0, 0, 0.15);\n",
              "      filter: drop-shadow(0px 1px 2px rgba(0, 0, 0, 0.3));\n",
              "      fill: #FFFFFF;\n",
              "    }\n",
              "  </style>\n",
              "\n",
              "    <script>\n",
              "      const buttonEl =\n",
              "        document.querySelector('#df-933678d7-7fc1-4a7d-b954-7a58ad6da3cf button.colab-df-convert');\n",
              "      buttonEl.style.display =\n",
              "        google.colab.kernel.accessAllowed ? 'block' : 'none';\n",
              "\n",
              "      async function convertToInteractive(key) {\n",
              "        const element = document.querySelector('#df-933678d7-7fc1-4a7d-b954-7a58ad6da3cf');\n",
              "        const dataTable =\n",
              "          await google.colab.kernel.invokeFunction('convertToInteractive',\n",
              "                                                    [key], {});\n",
              "        if (!dataTable) return;\n",
              "\n",
              "        const docLinkHtml = 'Like what you see? Visit the ' +\n",
              "          '<a target=\"_blank\" href=https://colab.research.google.com/notebooks/data_table.ipynb>data table notebook</a>'\n",
              "          + ' to learn more about interactive tables.';\n",
              "        element.innerHTML = '';\n",
              "        dataTable['output_type'] = 'display_data';\n",
              "        await google.colab.output.renderOutput(dataTable, element);\n",
              "        const docLink = document.createElement('div');\n",
              "        docLink.innerHTML = docLinkHtml;\n",
              "        element.appendChild(docLink);\n",
              "      }\n",
              "    </script>\n",
              "  </div>\n",
              "\n",
              "\n",
              "<div id=\"df-f017a7ae-25e3-4eb1-8719-d30d792cb185\">\n",
              "  <button class=\"colab-df-quickchart\" onclick=\"quickchart('df-f017a7ae-25e3-4eb1-8719-d30d792cb185')\"\n",
              "            title=\"Suggest charts.\"\n",
              "            style=\"display:none;\">\n",
              "\n",
              "<svg xmlns=\"http://www.w3.org/2000/svg\" height=\"24px\"viewBox=\"0 0 24 24\"\n",
              "     width=\"24px\">\n",
              "    <g>\n",
              "        <path d=\"M19 3H5c-1.1 0-2 .9-2 2v14c0 1.1.9 2 2 2h14c1.1 0 2-.9 2-2V5c0-1.1-.9-2-2-2zM9 17H7v-7h2v7zm4 0h-2V7h2v10zm4 0h-2v-4h2v4z\"/>\n",
              "    </g>\n",
              "</svg>\n",
              "  </button>\n",
              "\n",
              "<style>\n",
              "  .colab-df-quickchart {\n",
              "      --bg-color: #E8F0FE;\n",
              "      --fill-color: #1967D2;\n",
              "      --hover-bg-color: #E2EBFA;\n",
              "      --hover-fill-color: #174EA6;\n",
              "      --disabled-fill-color: #AAA;\n",
              "      --disabled-bg-color: #DDD;\n",
              "  }\n",
              "\n",
              "  [theme=dark] .colab-df-quickchart {\n",
              "      --bg-color: #3B4455;\n",
              "      --fill-color: #D2E3FC;\n",
              "      --hover-bg-color: #434B5C;\n",
              "      --hover-fill-color: #FFFFFF;\n",
              "      --disabled-bg-color: #3B4455;\n",
              "      --disabled-fill-color: #666;\n",
              "  }\n",
              "\n",
              "  .colab-df-quickchart {\n",
              "    background-color: var(--bg-color);\n",
              "    border: none;\n",
              "    border-radius: 50%;\n",
              "    cursor: pointer;\n",
              "    display: none;\n",
              "    fill: var(--fill-color);\n",
              "    height: 32px;\n",
              "    padding: 0;\n",
              "    width: 32px;\n",
              "  }\n",
              "\n",
              "  .colab-df-quickchart:hover {\n",
              "    background-color: var(--hover-bg-color);\n",
              "    box-shadow: 0 1px 2px rgba(60, 64, 67, 0.3), 0 1px 3px 1px rgba(60, 64, 67, 0.15);\n",
              "    fill: var(--button-hover-fill-color);\n",
              "  }\n",
              "\n",
              "  .colab-df-quickchart-complete:disabled,\n",
              "  .colab-df-quickchart-complete:disabled:hover {\n",
              "    background-color: var(--disabled-bg-color);\n",
              "    fill: var(--disabled-fill-color);\n",
              "    box-shadow: none;\n",
              "  }\n",
              "\n",
              "  .colab-df-spinner {\n",
              "    border: 2px solid var(--fill-color);\n",
              "    border-color: transparent;\n",
              "    border-bottom-color: var(--fill-color);\n",
              "    animation:\n",
              "      spin 1s steps(1) infinite;\n",
              "  }\n",
              "\n",
              "  @keyframes spin {\n",
              "    0% {\n",
              "      border-color: transparent;\n",
              "      border-bottom-color: var(--fill-color);\n",
              "      border-left-color: var(--fill-color);\n",
              "    }\n",
              "    20% {\n",
              "      border-color: transparent;\n",
              "      border-left-color: var(--fill-color);\n",
              "      border-top-color: var(--fill-color);\n",
              "    }\n",
              "    30% {\n",
              "      border-color: transparent;\n",
              "      border-left-color: var(--fill-color);\n",
              "      border-top-color: var(--fill-color);\n",
              "      border-right-color: var(--fill-color);\n",
              "    }\n",
              "    40% {\n",
              "      border-color: transparent;\n",
              "      border-right-color: var(--fill-color);\n",
              "      border-top-color: var(--fill-color);\n",
              "    }\n",
              "    60% {\n",
              "      border-color: transparent;\n",
              "      border-right-color: var(--fill-color);\n",
              "    }\n",
              "    80% {\n",
              "      border-color: transparent;\n",
              "      border-right-color: var(--fill-color);\n",
              "      border-bottom-color: var(--fill-color);\n",
              "    }\n",
              "    90% {\n",
              "      border-color: transparent;\n",
              "      border-bottom-color: var(--fill-color);\n",
              "    }\n",
              "  }\n",
              "</style>\n",
              "\n",
              "  <script>\n",
              "    async function quickchart(key) {\n",
              "      const quickchartButtonEl =\n",
              "        document.querySelector('#' + key + ' button');\n",
              "      quickchartButtonEl.disabled = true;  // To prevent multiple clicks.\n",
              "      quickchartButtonEl.classList.add('colab-df-spinner');\n",
              "      try {\n",
              "        const charts = await google.colab.kernel.invokeFunction(\n",
              "            'suggestCharts', [key], {});\n",
              "      } catch (error) {\n",
              "        console.error('Error during call to suggestCharts:', error);\n",
              "      }\n",
              "      quickchartButtonEl.classList.remove('colab-df-spinner');\n",
              "      quickchartButtonEl.classList.add('colab-df-quickchart-complete');\n",
              "    }\n",
              "    (() => {\n",
              "      let quickchartButtonEl =\n",
              "        document.querySelector('#df-f017a7ae-25e3-4eb1-8719-d30d792cb185 button');\n",
              "      quickchartButtonEl.style.display =\n",
              "        google.colab.kernel.accessAllowed ? 'block' : 'none';\n",
              "    })();\n",
              "  </script>\n",
              "</div>\n",
              "    </div>\n",
              "  </div>\n"
            ]
          },
          "metadata": {},
          "execution_count": 21
        }
      ],
      "source": [
        "df"
      ]
    },
    {
      "cell_type": "code",
      "execution_count": 22,
      "metadata": {
        "colab": {
          "base_uri": "https://localhost:8080/"
        },
        "id": "c2NBYZ4Tf6zq",
        "outputId": "5461bd16-a881-4a51-985b-d6a48daea862"
      },
      "outputs": [
        {
          "output_type": "stream",
          "name": "stdout",
          "text": [
            "Empty DataFrame\n",
            "Columns: [config, epoch, train_loss, train_acc, train_f1, val_loss, val_acc, val_f1]\n",
            "Index: []\n",
            "Empty DataFrame\n",
            "Columns: [config, epoch, train_loss, train_acc, train_f1, val_loss, val_acc, val_f1]\n",
            "Index: []\n",
            "Empty DataFrame\n",
            "Columns: [config, epoch, train_loss, train_acc, train_f1, val_loss, val_acc, val_f1]\n",
            "Index: []\n"
          ]
        }
      ],
      "source": [
        "for i, config in enumerate(configs):\n",
        "    config_data = df[df['config'] == config]\n",
        "    print(config_data)"
      ]
    },
    {
      "cell_type": "code",
      "execution_count": 23,
      "metadata": {
        "id": "OeO-wjpvfuD-",
        "colab": {
          "base_uri": "https://localhost:8080/",
          "height": 1000
        },
        "outputId": "2460431c-b902-4d37-d676-3feedcdf77e3"
      },
      "outputs": [
        {
          "output_type": "display_data",
          "data": {
            "text/plain": [
              "<Figure size 900x1100 with 6 Axes>"
            ],
            "image/png": "[encoded data removed]"
          },
          "metadata": {}
        }
      ],
      "source": [
        "fig, ax = plt.subplots(3, 2, figsize=(9, 11))\n",
        "\n",
        "\n",
        "for i, config in enumerate(configs):\n",
        "    config_data = df[df['config'] == i + 1]\n",
        "\n",
        "    # Left plot: Loss progression\n",
        "    ax[i, 0].plot(config_data['epoch'], config_data['train_loss'], label='Train Loss', color='blue')\n",
        "    ax[i, 0].plot(config_data['epoch'], config_data['val_loss'], label='Validation Loss', color='blue', linestyle='dashed')\n",
        "    ax[i, 0].set_title(f'{config} - Loss Progression')\n",
        "    ax[i, 0].set_xlabel('Epoch')\n",
        "    ax[i, 0].set_ylabel('Loss')\n",
        "    ax[i, 0].legend()\n",
        "\n",
        "    # Right plot: Accuracy and F1 progression\n",
        "    ax[i, 1].plot(config_data['epoch'], config_data['train_acc'], label='Train Accuracy', color='orange')\n",
        "    ax[i, 1].plot(config_data['epoch'], config_data['val_acc'], label='Validation Accuracy', color='orange', linestyle='dashed')\n",
        "    ax[i, 1].plot(config_data['epoch'], config_data['train_f1'], label='Train F1', color='green')\n",
        "    ax[i, 1].plot(config_data['epoch'], config_data['val_f1'], label='Validation F1', color='green', linestyle='dashed')\n",
        "    ax[i, 1].set_title(f'{config} - Accuracy and F1 Progression')\n",
        "    ax[i, 1].set_xlabel('Epoch')\n",
        "    ax[i, 1].set_ylabel('Accuracy / F1')\n",
        "    ax[i, 1].legend()\n",
        "\n",
        "\n",
        "plt.tight_layout()\n",
        "plt.show()"
      ]
    },
    {
      "cell_type": "markdown",
      "metadata": {
        "id": "lqoSThRWfuD_"
      },
      "source": [
        "___\n",
        "\n",
        "Student answer here:\n",
        "___"
      ]
    },
    {
      "cell_type": "markdown",
      "metadata": {
        "id": "h7K_GNFQfuD_"
      },
      "source": [
        "* As the final step, instantiate a model with the config of the best run\n",
        "* Load the `state_dict`\n",
        "* Evaluate it on the test set\n",
        "    * Don't forget to actviate evaluation mode and deactivate gradient calculation\n",
        "* Comment on the performance\n",
        "    * Did it generalize well? Why? Why not?\n",
        "    * What could be done to improve the performance even further?\n",
        "        * Consider also the hyperparameters from the third cell and discuss potential tradeoffs."
      ]
    },
    {
      "cell_type": "code",
      "execution_count": 24,
      "metadata": {
        "id": "hUak79M6fuD_",
        "colab": {
          "base_uri": "https://localhost:8080/"
        },
        "outputId": "01819bf5-3d5a-4884-98d0-cdca372c8c32"
      },
      "outputs": [
        {
          "output_type": "stream",
          "name": "stdout",
          "text": [
            "Evaluating: 100%|██████████| 782/782 [00:11<00:00, 68.24batches/s]\n",
            "Test Loss: 4.2707 | Test Accuracy: 0.5000 | Test F1: 0.3333\n"
          ]
        }
      ],
      "source": [
        "model = BiLSTM(**configs[best_model_config])\n",
        "model.load_state_dict(torch.load('best_model.pt'))\n",
        "model.to(device)\n",
        "model.eval()\n",
        "with torch.no_grad():\n",
        "    test_loss, test_acc, test_f1 = process(model, test_loader, criterion, device=device, train=False)\n",
        "    print(f\"Test Loss: {test_loss:.4f} | Test Accuracy: {test_acc:.4f} | Test F1: {test_f1:.4f}\")"
      ]
    },
    {
      "cell_type": "markdown",
      "metadata": {
        "id": "MaikJed1fuD_"
      },
      "source": [
        "___\n",
        "\n",
        "Student answer here:\n",
        "___"
      ]
    },
    {
      "cell_type": "markdown",
      "source": [
        "For this model, the performance in general is not very good regardless of the configuration. one potential issue can be the dataset itself which does not have enough samples for each class or the parts of the data that were choosen were not varied enough to make the model learn\n",
        "\n",
        "A potential solution is randomizing the dataset slices and cross-validating with folds, which is a very common technique for classification problems.\n",
        "\n",
        "The model seems very unstable in either configuration and this has to be mitigates by randomizing the dataset and trying with other parts of the data."
      ],
      "metadata": {
        "id": "6WlJe7d7hSoj"
      }
    },
    {
      "cell_type": "code",
      "source": [],
      "metadata": {
        "id": "EbEzafPljI-v"
      },
      "execution_count": 24,
      "outputs": []
    }
  ],
  "metadata": {
    "accelerator": "GPU",
    "colab": {
      "gpuType": "T4",
      "provenance": []
    },
    "kernelspec": {
      "display_name": "Python 3",
      "name": "python3"
    },
    "language_info": {
      "codemirror_mode": {
        "name": "ipython",
        "version": 3
      },
      "file_extension": ".py",
      "mimetype": "text/x-python",
      "name": "python",
      "nbconvert_exporter": "python",
      "pygments_lexer": "ipython3",
      "version": "3.10.13"
    },
    "widgets": {
      "application/vnd.jupyter.widget-state+json": {
        "3aa27d57cfd7473baf8322ca852f6028": {
          "model_module": "@jupyter-widgets/controls",
          "model_name": "HBoxModel",
          "model_module_version": "1.5.0",
          "state": {
            "_dom_classes": [],
            "_model_module": "@jupyter-widgets/controls",
            "_model_module_version": "1.5.0",
            "_model_name": "HBoxModel",
            "_view_count": null,
            "_view_module": "@jupyter-widgets/controls",
            "_view_module_version": "1.5.0",
            "_view_name": "HBoxView",
            "box_style": "",
            "children": [
              "IPY_MODEL_c50ff1f09b8b496b9fd9de1423b0e9bf",
              "IPY_MODEL_8f63e930cccd42b99e869eef4a454a7e",
              "IPY_MODEL_6e8b36a7526a4bf5a13088340277e5d0"
            ],
            "layout": "IPY_MODEL_731d456d2ab94d1caca33bf58c54361b"
          }
        },
        "c50ff1f09b8b496b9fd9de1423b0e9bf": {
          "model_module": "@jupyter-widgets/controls",
          "model_name": "HTMLModel",
          "model_module_version": "1.5.0",
          "state": {
            "_dom_classes": [],
            "_model_module": "@jupyter-widgets/controls",
            "_model_module_version": "1.5.0",
            "_model_name": "HTMLModel",
            "_view_count": null,
            "_view_module": "@jupyter-widgets/controls",
            "_view_module_version": "1.5.0",
            "_view_name": "HTMLView",
            "description": "",
            "description_tooltip": null,
            "layout": "IPY_MODEL_b7b74a2ea5094c1d9eb75c5ba9fcb1cc",
            "placeholder": "​",
            "style": "IPY_MODEL_ebf31cad73ff4fd596067d8c7bbbc079",
            "value": "100%"
          }
        },
        "8f63e930cccd42b99e869eef4a454a7e": {
          "model_module": "@jupyter-widgets/controls",
          "model_name": "FloatProgressModel",
          "model_module_version": "1.5.0",
          "state": {
            "_dom_classes": [],
            "_model_module": "@jupyter-widgets/controls",
            "_model_module_version": "1.5.0",
            "_model_name": "FloatProgressModel",
            "_view_count": null,
            "_view_module": "@jupyter-widgets/controls",
            "_view_module_version": "1.5.0",
            "_view_name": "ProgressView",
            "bar_style": "success",
            "description": "",
            "description_tooltip": null,
            "layout": "IPY_MODEL_7d42ee3c597a45cbae6235ada0a2f2a9",
            "max": 3,
            "min": 0,
            "orientation": "horizontal",
            "style": "IPY_MODEL_a58954214220432e87cccac832674342",
            "value": 3
          }
        },
        "6e8b36a7526a4bf5a13088340277e5d0": {
          "model_module": "@jupyter-widgets/controls",
          "model_name": "HTMLModel",
          "model_module_version": "1.5.0",
          "state": {
            "_dom_classes": [],
            "_model_module": "@jupyter-widgets/controls",
            "_model_module_version": "1.5.0",
            "_model_name": "HTMLModel",
            "_view_count": null,
            "_view_module": "@jupyter-widgets/controls",
            "_view_module_version": "1.5.0",
            "_view_name": "HTMLView",
            "description": "",
            "description_tooltip": null,
            "layout": "IPY_MODEL_f73e182de8354f60a3799350b9c21ab1",
            "placeholder": "​",
            "style": "IPY_MODEL_2fd502df059a43b1afa37b70f3f52498",
            "value": " 3/3 [00:00&lt;00:00, 98.64it/s]"
          }
        },
        "731d456d2ab94d1caca33bf58c54361b": {
          "model_module": "@jupyter-widgets/base",
          "model_name": "LayoutModel",
          "model_module_version": "1.2.0",
          "state": {
            "_model_module": "@jupyter-widgets/base",
            "_model_module_version": "1.2.0",
            "_model_name": "LayoutModel",
            "_view_count": null,
            "_view_module": "@jupyter-widgets/base",
            "_view_module_version": "1.2.0",
            "_view_name": "LayoutView",
            "align_content": null,
            "align_items": null,
            "align_self": null,
            "border": null,
            "bottom": null,
            "display": null,
            "flex": null,
            "flex_flow": null,
            "grid_area": null,
            "grid_auto_columns": null,
            "grid_auto_flow": null,
            "grid_auto_rows": null,
            "grid_column": null,
            "grid_gap": null,
            "grid_row": null,
            "grid_template_areas": null,
            "grid_template_columns": null,
            "grid_template_rows": null,
            "height": null,
            "justify_content": null,
            "justify_items": null,
            "left": null,
            "margin": null,
            "max_height": null,
            "max_width": null,
            "min_height": null,
            "min_width": null,
            "object_fit": null,
            "object_position": null,
            "order": null,
            "overflow": null,
            "overflow_x": null,
            "overflow_y": null,
            "padding": null,
            "right": null,
            "top": null,
            "visibility": null,
            "width": null
          }
        },
        "b7b74a2ea5094c1d9eb75c5ba9fcb1cc": {
          "model_module": "@jupyter-widgets/base",
          "model_name": "LayoutModel",
          "model_module_version": "1.2.0",
          "state": {
            "_model_module": "@jupyter-widgets/base",
            "_model_module_version": "1.2.0",
            "_model_name": "LayoutModel",
            "_view_count": null,
            "_view_module": "@jupyter-widgets/base",
            "_view_module_version": "1.2.0",
            "_view_name": "LayoutView",
            "align_content": null,
            "align_items": null,
            "align_self": null,
            "border": null,
            "bottom": null,
            "display": null,
            "flex": null,
            "flex_flow": null,
            "grid_area": null,
            "grid_auto_columns": null,
            "grid_auto_flow": null,
            "grid_auto_rows": null,
            "grid_column": null,
            "grid_gap": null,
            "grid_row": null,
            "grid_template_areas": null,
            "grid_template_columns": null,
            "grid_template_rows": null,
            "height": null,
            "justify_content": null,
            "justify_items": null,
            "left": null,
            "margin": null,
            "max_height": null,
            "max_width": null,
            "min_height": null,
            "min_width": null,
            "object_fit": null,
            "object_position": null,
            "order": null,
            "overflow": null,
            "overflow_x": null,
            "overflow_y": null,
            "padding": null,
            "right": null,
            "top": null,
            "visibility": null,
            "width": null
          }
        },
        "ebf31cad73ff4fd596067d8c7bbbc079": {
          "model_module": "@jupyter-widgets/controls",
          "model_name": "DescriptionStyleModel",
          "model_module_version": "1.5.0",
          "state": {
            "_model_module": "@jupyter-widgets/controls",
            "_model_module_version": "1.5.0",
            "_model_name": "DescriptionStyleModel",
            "_view_count": null,
            "_view_module": "@jupyter-widgets/base",
            "_view_module_version": "1.2.0",
            "_view_name": "StyleView",
            "description_width": ""
          }
        },
        "7d42ee3c597a45cbae6235ada0a2f2a9": {
          "model_module": "@jupyter-widgets/base",
          "model_name": "LayoutModel",
          "model_module_version": "1.2.0",
          "state": {
            "_model_module": "@jupyter-widgets/base",
            "_model_module_version": "1.2.0",
            "_model_name": "LayoutModel",
            "_view_count": null,
            "_view_module": "@jupyter-widgets/base",
            "_view_module_version": "1.2.0",
            "_view_name": "LayoutView",
            "align_content": null,
            "align_items": null,
            "align_self": null,
            "border": null,
            "bottom": null,
            "display": null,
            "flex": null,
            "flex_flow": null,
            "grid_area": null,
            "grid_auto_columns": null,
            "grid_auto_flow": null,
            "grid_auto_rows": null,
            "grid_column": null,
            "grid_gap": null,
            "grid_row": null,
            "grid_template_areas": null,
            "grid_template_columns": null,
            "grid_template_rows": null,
            "height": null,
            "justify_content": null,
            "justify_items": null,
            "left": null,
            "margin": null,
            "max_height": null,
            "max_width": null,
            "min_height": null,
            "min_width": null,
            "object_fit": null,
            "object_position": null,
            "order": null,
            "overflow": null,
            "overflow_x": null,
            "overflow_y": null,
            "padding": null,
            "right": null,
            "top": null,
            "visibility": null,
            "width": null
          }
        },
        "a58954214220432e87cccac832674342": {
          "model_module": "@jupyter-widgets/controls",
          "model_name": "ProgressStyleModel",
          "model_module_version": "1.5.0",
          "state": {
            "_model_module": "@jupyter-widgets/controls",
            "_model_module_version": "1.5.0",
            "_model_name": "ProgressStyleModel",
            "_view_count": null,
            "_view_module": "@jupyter-widgets/base",
            "_view_module_version": "1.2.0",
            "_view_name": "StyleView",
            "bar_color": null,
            "description_width": ""
          }
        },
        "f73e182de8354f60a3799350b9c21ab1": {
          "model_module": "@jupyter-widgets/base",
          "model_name": "LayoutModel",
          "model_module_version": "1.2.0",
          "state": {
            "_model_module": "@jupyter-widgets/base",
            "_model_module_version": "1.2.0",
            "_model_name": "LayoutModel",
            "_view_count": null,
            "_view_module": "@jupyter-widgets/base",
            "_view_module_version": "1.2.0",
            "_view_name": "LayoutView",
            "align_content": null,
            "align_items": null,
            "align_self": null,
            "border": null,
            "bottom": null,
            "display": null,
            "flex": null,
            "flex_flow": null,
            "grid_area": null,
            "grid_auto_columns": null,
            "grid_auto_flow": null,
            "grid_auto_rows": null,
            "grid_column": null,
            "grid_gap": null,
            "grid_row": null,
            "grid_template_areas": null,
            "grid_template_columns": null,
            "grid_template_rows": null,
            "height": null,
            "justify_content": null,
            "justify_items": null,
            "left": null,
            "margin": null,
            "max_height": null,
            "max_width": null,
            "min_height": null,
            "min_width": null,
            "object_fit": null,
            "object_position": null,
            "order": null,
            "overflow": null,
            "overflow_x": null,
            "overflow_y": null,
            "padding": null,
            "right": null,
            "top": null,
            "visibility": null,
            "width": null
          }
        },
        "2fd502df059a43b1afa37b70f3f52498": {
          "model_module": "@jupyter-widgets/controls",
          "model_name": "DescriptionStyleModel",
          "model_module_version": "1.5.0",
          "state": {
            "_model_module": "@jupyter-widgets/controls",
            "_model_module_version": "1.5.0",
            "_model_name": "DescriptionStyleModel",
            "_view_count": null,
            "_view_module": "@jupyter-widgets/base",
            "_view_module_version": "1.2.0",
            "_view_name": "StyleView",
            "description_width": ""
          }
        }
      }
    }
  },
  "nbformat": 4,
  "nbformat_minor": 0
}